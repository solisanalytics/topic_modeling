{
 "cells": [
  {
   "cell_type": "markdown",
   "id": "1903b388-2f9b-4a6b-96c6-518fc90b688f",
   "metadata": {},
   "source": [
    "# Topic Modeling with Gensim and Optimal Topic Coherence"
   ]
  },
  {
   "cell_type": "markdown",
   "id": "484da16b-6b59-4571-bb4b-f94d8ed1784f",
   "metadata": {
    "tags": []
   },
   "source": [
    "### Importing Libraries and Loading Data"
   ]
  },
  {
   "cell_type": "code",
   "execution_count": 1,
   "id": "ea42a73d-8482-45f5-91e8-8c1a4f1162c1",
   "metadata": {
    "tags": []
   },
   "outputs": [
    {
     "name": "stderr",
     "output_type": "stream",
     "text": [
      "[nltk_data] Downloading package punkt to /home/studio-lab-\n",
      "[nltk_data]     user/nltk_data...\n",
      "[nltk_data]   Package punkt is already up-to-date!\n",
      "[nltk_data] Downloading package wordnet to /home/studio-lab-\n",
      "[nltk_data]     user/nltk_data...\n",
      "[nltk_data]   Package wordnet is already up-to-date!\n",
      "[nltk_data] Downloading package stopwords to /home/studio-lab-\n",
      "[nltk_data]     user/nltk_data...\n",
      "[nltk_data]   Package stopwords is already up-to-date!\n"
     ]
    },
    {
     "data": {
      "text/plain": [
       "True"
      ]
     },
     "execution_count": 1,
     "metadata": {},
     "output_type": "execute_result"
    }
   ],
   "source": [
    "from gensim.models import LdaModel\n",
    "from gensim.corpora import Dictionary\n",
    "from gensim.models import CoherenceModel\n",
    "from nltk.corpus import stopwords\n",
    "from nltk.tokenize import word_tokenize\n",
    "from nltk.stem import WordNetLemmatizer\n",
    "import plotly_express as px\n",
    "import re\n",
    "import nltk\n",
    "import pandas as pd\n",
    "\n",
    "nltk.download('punkt')\n",
    "nltk.download('wordnet')\n",
    "nltk.download('stopwords')"
   ]
  },
  {
   "cell_type": "code",
   "execution_count": 2,
   "id": "82c5bb93-05bf-49bc-a4af-91d0521c739f",
   "metadata": {
    "tags": []
   },
   "outputs": [
    {
     "data": {
      "text/html": [
       "<div>\n",
       "<style scoped>\n",
       "    .dataframe tbody tr th:only-of-type {\n",
       "        vertical-align: middle;\n",
       "    }\n",
       "\n",
       "    .dataframe tbody tr th {\n",
       "        vertical-align: top;\n",
       "    }\n",
       "\n",
       "    .dataframe thead th {\n",
       "        text-align: right;\n",
       "    }\n",
       "</style>\n",
       "<table border=\"1\" class=\"dataframe\">\n",
       "  <thead>\n",
       "    <tr style=\"text-align: right;\">\n",
       "      <th></th>\n",
       "      <th>name</th>\n",
       "      <th>platform</th>\n",
       "      <th>release_date</th>\n",
       "      <th>summary</th>\n",
       "      <th>meta_score</th>\n",
       "      <th>user_review</th>\n",
       "    </tr>\n",
       "  </thead>\n",
       "  <tbody>\n",
       "    <tr>\n",
       "      <th>0</th>\n",
       "      <td>The Legend of Zelda: Ocarina of Time</td>\n",
       "      <td>Nintendo 64</td>\n",
       "      <td>November 23, 1998</td>\n",
       "      <td>As a young boy, Link is tricked by Ganondorf, ...</td>\n",
       "      <td>99</td>\n",
       "      <td>9.1</td>\n",
       "    </tr>\n",
       "    <tr>\n",
       "      <th>1</th>\n",
       "      <td>Tony Hawk's Pro Skater 2</td>\n",
       "      <td>PlayStation</td>\n",
       "      <td>September 20, 2000</td>\n",
       "      <td>As most major publishers' development efforts ...</td>\n",
       "      <td>98</td>\n",
       "      <td>7.4</td>\n",
       "    </tr>\n",
       "    <tr>\n",
       "      <th>2</th>\n",
       "      <td>Grand Theft Auto IV</td>\n",
       "      <td>PlayStation 3</td>\n",
       "      <td>April 29, 2008</td>\n",
       "      <td>[Metacritic's 2008 PS3 Game of the Year; Also ...</td>\n",
       "      <td>98</td>\n",
       "      <td>7.7</td>\n",
       "    </tr>\n",
       "    <tr>\n",
       "      <th>3</th>\n",
       "      <td>SoulCalibur</td>\n",
       "      <td>Dreamcast</td>\n",
       "      <td>September 8, 1999</td>\n",
       "      <td>This is a tale of souls and swords, transcendi...</td>\n",
       "      <td>98</td>\n",
       "      <td>8.4</td>\n",
       "    </tr>\n",
       "    <tr>\n",
       "      <th>4</th>\n",
       "      <td>Grand Theft Auto IV</td>\n",
       "      <td>Xbox 360</td>\n",
       "      <td>April 29, 2008</td>\n",
       "      <td>[Metacritic's 2008 Xbox 360 Game of the Year; ...</td>\n",
       "      <td>98</td>\n",
       "      <td>7.9</td>\n",
       "    </tr>\n",
       "  </tbody>\n",
       "</table>\n",
       "</div>"
      ],
      "text/plain": [
       "                                   name        platform        release_date  \\\n",
       "0  The Legend of Zelda: Ocarina of Time     Nintendo 64   November 23, 1998   \n",
       "1              Tony Hawk's Pro Skater 2     PlayStation  September 20, 2000   \n",
       "2                   Grand Theft Auto IV   PlayStation 3      April 29, 2008   \n",
       "3                           SoulCalibur       Dreamcast   September 8, 1999   \n",
       "4                   Grand Theft Auto IV        Xbox 360      April 29, 2008   \n",
       "\n",
       "                                             summary  meta_score user_review  \n",
       "0  As a young boy, Link is tricked by Ganondorf, ...          99         9.1  \n",
       "1  As most major publishers' development efforts ...          98         7.4  \n",
       "2  [Metacritic's 2008 PS3 Game of the Year; Also ...          98         7.7  \n",
       "3  This is a tale of souls and swords, transcendi...          98         8.4  \n",
       "4  [Metacritic's 2008 Xbox 360 Game of the Year; ...          98         7.9  "
      ]
     },
     "execution_count": 2,
     "metadata": {},
     "output_type": "execute_result"
    }
   ],
   "source": [
    "# Loading dataset\n",
    "df_games = pd.read_csv('all_games.csv')\n",
    "df_games.head()"
   ]
  },
  {
   "cell_type": "code",
   "execution_count": 3,
   "id": "08c3c8b6-838d-4581-b2e0-bafa7eb7a847",
   "metadata": {
    "tags": []
   },
   "outputs": [
    {
     "name": "stdout",
     "output_type": "stream",
     "text": [
      "Count Rows: 18800, Count Columns: 6\n"
     ]
    }
   ],
   "source": [
    "# displaying count of rows and columns\n",
    "print(f'Count Rows: {df_games.shape[0]}, Count Columns: {df_games.shape[1]}')"
   ]
  },
  {
   "cell_type": "code",
   "execution_count": 4,
   "id": "ed759db8-9f29-4d0a-b1f7-47494f3072a5",
   "metadata": {
    "tags": []
   },
   "outputs": [
    {
     "name": "stdout",
     "output_type": "stream",
     "text": [
      "             platform  count\n",
      "0                  PC   4864\n",
      "1       PlayStation 4   2056\n",
      "2            Xbox 360   1644\n",
      "3       PlayStation 2   1414\n",
      "4              Switch   1399\n",
      "5       PlayStation 3   1256\n",
      "6            Xbox One   1179\n",
      "7                Xbox    789\n",
      "8                  DS    720\n",
      "9                 Wii    655\n",
      "10                PSP    512\n",
      "11           GameCube    448\n",
      "12   Game Boy Advance    438\n",
      "13                3DS    396\n",
      "14   PlayStation Vita    257\n",
      "15        PlayStation    187\n",
      "16              Wii U    184\n",
      "17          Dreamcast    125\n",
      "18      PlayStation 5    124\n",
      "19      Xbox Series X     77\n"
     ]
    }
   ],
   "source": [
    "# top ten games with most reviews\n",
    "df_top_platforms = df_games['platform'].value_counts().head(20).reset_index()\n",
    "print(df_top_platforms)"
   ]
  },
  {
   "cell_type": "code",
   "execution_count": 5,
   "id": "4a966fe2-310a-4b5f-abc1-95363bab7042",
   "metadata": {
    "tags": []
   },
   "outputs": [
    {
     "data": {
      "text/plain": [
       "array([' Nintendo 64', ' PlayStation', ' PlayStation 3', ' Dreamcast',\n",
       "       ' Xbox 360', ' Wii', ' Xbox One', ' PC', ' Switch',\n",
       "       ' PlayStation 2', ' PlayStation 4', ' GameCube', ' Xbox', ' Wii U',\n",
       "       ' Game Boy Advance', ' 3DS', ' Xbox Series X', ' DS',\n",
       "       ' PlayStation Vita', ' PlayStation 5', ' PSP', ' Stadia'],\n",
       "      dtype=object)"
      ]
     },
     "execution_count": 5,
     "metadata": {},
     "output_type": "execute_result"
    }
   ],
   "source": [
    "# displaying platform string names\n",
    "df_games['platform'].unique()"
   ]
  },
  {
   "cell_type": "code",
   "execution_count": 6,
   "id": "96d4b307-2067-4589-aae4-0a9bef23a606",
   "metadata": {
    "tags": []
   },
   "outputs": [
    {
     "name": "stdout",
     "output_type": "stream",
     "text": [
      "platform\n",
      " DS    720\n",
      "Name: count, dtype: int64\n"
     ]
    }
   ],
   "source": [
    "# filtering on ds games\n",
    "df_ds = df_games.loc[df_games['platform'] == ' DS']\n",
    "print(df_ds['platform'].value_counts())"
   ]
  },
  {
   "cell_type": "code",
   "execution_count": 7,
   "id": "a4afd001-028c-421d-af0f-86e59839e1c9",
   "metadata": {
    "tags": []
   },
   "outputs": [
    {
     "name": "stdout",
     "output_type": "stream",
     "text": [
      "2\n"
     ]
    }
   ],
   "source": [
    "# counting games with missing comments\n",
    "print(df_ds['summary'].isna().sum())"
   ]
  },
  {
   "cell_type": "code",
   "execution_count": 8,
   "id": "88d426c1-80a5-4220-870a-efd2659b6225",
   "metadata": {
    "tags": []
   },
   "outputs": [
    {
     "name": "stdout",
     "output_type": "stream",
     "text": [
      "0\n"
     ]
    }
   ],
   "source": [
    "# removing games with missing comments\n",
    "df_ds = df_ds.dropna(subset=['summary'])\n",
    "print(df_ds['summary'].isna().sum())"
   ]
  },
  {
   "cell_type": "markdown",
   "id": "b409c64b-7d7a-4725-b171-c0e60a2f1064",
   "metadata": {
    "tags": []
   },
   "source": [
    "### Data Preprocessing"
   ]
  },
  {
   "cell_type": "code",
   "execution_count": 9,
   "id": "52a725a7-a9d7-4371-8cd6-c5abc3f259a8",
   "metadata": {},
   "outputs": [
    {
     "name": "stdout",
     "output_type": "stream",
     "text": [
      "<WordListCorpusReader in '/home/studio-lab-user/nltk_data/corpora/stopwords'>\n"
     ]
    }
   ],
   "source": [
    "# initialize WordNetLemmatizer\n",
    "lemmatizer = WordNetLemmatizer()\n",
    "\n",
    "# defining stop words\n",
    "stop_words = set(stopwords.words('english'))\n",
    "print(stopwords)"
   ]
  },
  {
   "cell_type": "code",
   "execution_count": 10,
   "id": "db7e52f8-91ba-442f-b13f-ce28c79f5765",
   "metadata": {
    "tags": []
   },
   "outputs": [],
   "source": [
    "# creating preprocess function\n",
    "def preprocess(document):\n",
    "    ''' Performs lowercase, tokenization, \n",
    "    stop word removal and lemmatization'''\n",
    "    document = document.lower() # converts to lower case\n",
    "    document = word_tokenize(document) # tokenize into words\n",
    "    document = [word for word in document if word.isalpha()] # remove numbers and punctuation\n",
    "    document = [word for word in document if word not in stop_words] # remove stop words\n",
    "    document = [lemmatizer.lemmatize(word) for word in document] # lemmatize words\n",
    "    document = [word for word in document if len(word) > 1] # removing one character words\n",
    "    \n",
    "    return document"
   ]
  },
  {
   "cell_type": "code",
   "execution_count": 11,
   "id": "32365832-f5b6-4d4f-a221-f99c085cc26e",
   "metadata": {
    "tags": []
   },
   "outputs": [
    {
     "name": "stdout",
     "output_type": "stream",
     "text": [
      "['grand', 'theft', 'auto', 'chinatown', 'war', 'entirely', 'original', 'entry', 'critically', 'acclaimed', 'grand', 'theft', 'auto', 'series', 'brings', 'new', 'level', 'interactivity', 'sprawling', 'open', 'environment', 'use', 'touch', 'screen', 'player', 'navigate', 'way', 'street', 'uncover', 'truth', 'behind', 'epic', 'tale', 'crime', 'corruption', 'within', 'triad', 'crime', 'syndicate', 'delivering', 'unprecedented', 'amount', 'depth', 'become', 'true', 'trademark', 'franchise'] \n",
      "\n"
     ]
    }
   ],
   "source": [
    "# preprocessing texts\n",
    "preprocessed_texts = [preprocess(document) for document in df_ds['summary']]\n",
    "\n",
    "# displaying first three summaries\n",
    "for text in preprocessed_texts[:1]:\n",
    "    print(text, '\\n')"
   ]
  },
  {
   "cell_type": "markdown",
   "id": "63886422-851d-4dd4-ba99-e7370e40afb2",
   "metadata": {
    "tags": []
   },
   "source": [
    "### Building LDA Model"
   ]
  },
  {
   "cell_type": "code",
   "execution_count": 12,
   "id": "37979b69-2f3a-434a-9acd-8f8340dc99de",
   "metadata": {
    "tags": []
   },
   "outputs": [
    {
     "name": "stdout",
     "output_type": "stream",
     "text": [
      "Dictionary<1690 unique tokens: ['acclaimed', 'amount', 'become', 'behind', 'brings']...>\n"
     ]
    }
   ],
   "source": [
    "# building dictionary\n",
    "dictionary = Dictionary(preprocessed_texts)\n",
    "\n",
    "# removing extreme words\n",
    "dictionary.filter_extremes(no_below=5, no_above=0.25)\n",
    "\n",
    "# creating corpus\n",
    "corpus = [dictionary.doc2bow(text) for text in preprocessed_texts]\n",
    "print(dictionary)"
   ]
  },
  {
   "cell_type": "markdown",
   "id": "948eab95-329b-4072-8ac8-11ea51661698",
   "metadata": {
    "tags": []
   },
   "source": [
    "### Optimal Number of Topics Based on Coherence"
   ]
  },
  {
   "cell_type": "code",
   "execution_count": 13,
   "id": "5357bbe4-7c25-446c-be76-9c9d2b5acdb0",
   "metadata": {
    "tags": []
   },
   "outputs": [],
   "source": [
    "# list to store coherence scores\n",
    "coherence_scores = []\n",
    "\n",
    "# topics range\n",
    "topics_range = range(2, 21)\n",
    "\n",
    "# looping through topics range\n",
    "for num_topics in topics_range:\n",
    "    # creating lda model\n",
    "    lda_model = LdaModel(\n",
    "        corpus=corpus,\n",
    "        id2word=dictionary,\n",
    "        num_topics=num_topics,\n",
    "        alpha=0.01,\n",
    "        eta=0.01\n",
    "    )\n",
    "    # creating coherence model with u_mass\n",
    "    coherence_model = CoherenceModel(\n",
    "        model=lda_model,\n",
    "        texts=preprocessed_texts,\n",
    "        dictionary=dictionary,\n",
    "        coherence='u_mass'\n",
    "    )\n",
    "    # retrieving coherence score\n",
    "    coherence_score = coherence_model.get_coherence()\n",
    "    # appending coherence score to list\n",
    "    coherence_scores.append(coherence_score)"
   ]
  },
  {
   "cell_type": "code",
   "execution_count": 14,
   "id": "dd9435c1-a46e-4d98-b09c-837a08c06e3a",
   "metadata": {
    "tags": []
   },
   "outputs": [
    {
     "name": "stdout",
     "output_type": "stream",
     "text": [
      "[-1.566598097660909, -1.5940777129785426, -1.6263689698390407, -1.8050623822419918, -1.9733077063049373, -2.0575507874340184, -1.9176949049449274, -2.2458451576716363, -2.301158497520358, -2.1329265691314316, -2.0807694089700477, -2.172061701889378, -2.3882307240188787, -2.2701791757753345, -2.4060236419237166, -2.5486988550228262, -2.4705895503044295, -2.3888153678937663, -2.5609017705760038]\n"
     ]
    }
   ],
   "source": [
    "# printing coherence scores\n",
    "print(coherence_scores)"
   ]
  },
  {
   "cell_type": "markdown",
   "id": "f19372ac-f503-4509-8526-466a2260e66e",
   "metadata": {
    "tags": []
   },
   "source": [
    "### Visualizing Coherence Scores"
   ]
  },
  {
   "cell_type": "code",
   "execution_count": 15,
   "id": "fa66e1e8-cc86-4dec-972b-eabe822d6f3c",
   "metadata": {
    "tags": []
   },
   "outputs": [
    {
     "data": {
      "text/html": [
       "<iframe\n",
       "    scrolling=\"no\"\n",
       "    width=\"100%\"\n",
       "    height=\"545px\"\n",
       "    src=\"iframe_figures/figure_15.html\"\n",
       "    frameborder=\"0\"\n",
       "    allowfullscreen\n",
       "></iframe>\n"
      ]
     },
     "metadata": {},
     "output_type": "display_data"
    }
   ],
   "source": [
    "# creating dataframe\n",
    "df_topics = pd.DataFrame(\n",
    "    {'Number of Topics': list(topics_range),\n",
    "     'Coherence Score': coherence_scores}\n",
    ")\n",
    "\n",
    "# line plot\n",
    "fig = px.line(\n",
    "    df_topics,\n",
    "    x='Number of Topics',\n",
    "    y='Coherence Score',\n",
    "    labels={\n",
    "        'x': 'Number of Topics',\n",
    "        'y': 'Coherence Score'},\n",
    "    title='Coherence Scores for Num of Topics'\n",
    ")\n",
    "\n",
    "fig.show(renderer='iframe')"
   ]
  },
  {
   "cell_type": "markdown",
   "id": "52238e7c-5d8a-45ad-ba18-778d1ac2dd5c",
   "metadata": {
    "tags": []
   },
   "source": [
    "### Optimal Model and Top Words in Topics"
   ]
  },
  {
   "cell_type": "code",
   "execution_count": 16,
   "id": "950897bc-b6fb-4a3b-947b-9402b32ee3d7",
   "metadata": {
    "tags": []
   },
   "outputs": [
    {
     "name": "stdout",
     "output_type": "stream",
     "text": [
      "Optimal Num of Topics: 4\n",
      "\n"
     ]
    }
   ],
   "source": [
    "# choosing optimal model\n",
    "optimal_num_topics = topics_range[2]\n",
    "\n",
    "# training LDA model with optimal number of topics\n",
    "optimal_lda_model = LdaModel(\n",
    "    corpus=corpus,\n",
    "    id2word=dictionary,\n",
    "    num_topics=optimal_num_topics\n",
    ")\n",
    "\n",
    "# output number of topics and top words for each topic\n",
    "print(f'Optimal Num of Topics: {optimal_num_topics}\\n')"
   ]
  },
  {
   "cell_type": "code",
   "execution_count": 17,
   "id": "0b0e1925-3945-4b3d-8435-795d24430c55",
   "metadata": {
    "tags": []
   },
   "outputs": [
    {
     "name": "stdout",
     "output_type": "stream",
     "text": [
      "4\n"
     ]
    }
   ],
   "source": [
    "# creating dictionary that stores topics and top words\n",
    "optimal_lda_topics = optimal_lda_model.show_topics(\n",
    "    num_topics=optimal_num_topics, \n",
    "    num_words=10,\n",
    "    formatted=False\n",
    ")\n",
    "print(len(optimal_lda_topics))"
   ]
  },
  {
   "cell_type": "code",
   "execution_count": 18,
   "id": "cf1379b7-a924-4daa-831a-2a7cd261b40c",
   "metadata": {
    "tags": []
   },
   "outputs": [
    {
     "name": "stdout",
     "output_type": "stream",
     "text": [
      "Topic 1: friend, time, also, hero, one, level, puzzle, series, make, including\n",
      "\n",
      "Topic 2: use, control, way, friend, pokemon, one, adventure, touch, different, character\n",
      "\n",
      "Topic 3: character, screen, challenge, action, enemy, experience, unique, time, control, adventure\n",
      "\n",
      "Topic 4: puzzle, screen, friend, unique, action, way, island, character, help, using\n",
      "\n"
     ]
    }
   ],
   "source": [
    "# displayin topics and top words\n",
    "for topic_id, topic in optimal_lda_topics:\n",
    "    words = ', '.join([word[0] for word in topic])\n",
    "    print(f'Topic {topic_id + 1}: {words}\\n')"
   ]
  }
 ],
 "metadata": {
  "kernelspec": {
   "display_name": "topic_modeling:Python",
   "language": "python",
   "name": "conda-env-topic_modeling-py"
  },
  "language_info": {
   "codemirror_mode": {
    "name": "ipython",
    "version": 3
   },
   "file_extension": ".py",
   "mimetype": "text/x-python",
   "name": "python",
   "nbconvert_exporter": "python",
   "pygments_lexer": "ipython3",
   "version": "3.11.4"
  }
 },
 "nbformat": 4,
 "nbformat_minor": 5
}
